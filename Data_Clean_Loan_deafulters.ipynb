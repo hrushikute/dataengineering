{
 "cells": [
  {
   "cell_type": "code",
   "execution_count": 1,
   "id": "3dd1cba2",
   "metadata": {},
   "outputs": [],
   "source": [
    "#import the necessary libs\n",
    "\n",
    "from pyspark.sql import SparkSession\n",
    "import getpass\n",
    "\n",
    "username=getpass.getuser()\n",
    "spark=SparkSession. \\\n",
    "    builder. \\\n",
    "    config('spark.ui.port','0'). \\\n",
    "    config(\"spark.suffle.useOldFetchProtocol\",'true'). \\\n",
    "    config(\"spark.dql.warehouse.dir\",f\"/user/{username}/warehouse\"). \\\n",
    "    enableHiveSupport(). \\\n",
    "    master('yarn'). \\\n",
    "    getOrCreate()"
   ]
  },
  {
   "cell_type": "code",
   "execution_count": 2,
   "id": "849b5648",
   "metadata": {},
   "outputs": [],
   "source": [
    "\n",
    "loans_def_raw_df = spark.read \\\n",
    ".format(\"csv\") \\\n",
    ".option(\"header\",True) \\\n",
    ".option(\"inferSchema\", True) \\\n",
    ".load(\"/user/itv014478/lendingclubproject/raw/loan_defaulters_data_csv\")"
   ]
  },
  {
   "cell_type": "code",
   "execution_count": 3,
   "id": "d0336444",
   "metadata": {},
   "outputs": [
    {
     "data": {
      "text/html": [
       "<table border='1'>\n",
       "<tr><th>member_id</th><th>delinq_2yrs</th><th>delinq_amnt</th><th>pub_rec</th><th>pub_rec_bankruptcies</th><th>inq_last_6mths</th><th>total_rec_late_fee</th><th>mths_since_last_delinq</th><th>mths_since_last_record</th></tr>\n",
       "<tr><td>6d5091b3fcaaeb4ea...</td><td>0.0</td><td>0.0</td><td>0.0</td><td>0.0</td><td>1.0</td><td>0.0</td><td>30.0</td><td>null</td></tr>\n",
       "<tr><td>b5e7938b0a2da4cea...</td><td>1.0</td><td>0.0</td><td>0.0</td><td>0.0</td><td>4.0</td><td>0.0</td><td>6.0</td><td>null</td></tr>\n",
       "<tr><td>91060b858433e8a61...</td><td>0.0</td><td>0.0</td><td>0.0</td><td>0.0</td><td>0.0</td><td>0.0</td><td>null</td><td>null</td></tr>\n",
       "<tr><td>cab1fa9f533688b0a...</td><td>0.0</td><td>0.0</td><td>0.0</td><td>0.0</td><td>0.0</td><td>0.0</td><td>null</td><td>null</td></tr>\n",
       "<tr><td>f74e401c1ab0adf78...</td><td>1.0</td><td>0.0</td><td>0.0</td><td>0.0</td><td>3.0</td><td>0.0</td><td>12.0</td><td>null</td></tr>\n",
       "<tr><td>8aef4bb29d609d8d6...</td><td>0.0</td><td>0.0</td><td>0.0</td><td>0.0</td><td>0.0</td><td>0.0</td><td>null</td><td>null</td></tr>\n",
       "<tr><td>538b4653da3b1e814...</td><td>0.0</td><td>0.0</td><td>0.0</td><td>0.0</td><td>0.0</td><td>0.0</td><td>49.0</td><td>null</td></tr>\n",
       "<tr><td>b24d55f21390533c5...</td><td>1.0</td><td>0.0</td><td>0.0</td><td>0.0</td><td>0.0</td><td>0.0</td><td>3.0</td><td>null</td></tr>\n",
       "<tr><td>1035c5401b0ca76d0...</td><td>0.0</td><td>0.0</td><td>1.0</td><td>1.0</td><td>1.0</td><td>0.0</td><td>null</td><td>106.0</td></tr>\n",
       "<tr><td>cb0f1777593e77909...</td><td>0.0</td><td>0.0</td><td>0.0</td><td>0.0</td><td>0.0</td><td>0.0</td><td>75.0</td><td>null</td></tr>\n",
       "<tr><td>a962f4d59caec5fa1...</td><td>0.0</td><td>0.0</td><td>0.0</td><td>0.0</td><td>0.0</td><td>0.0</td><td>54.0</td><td>null</td></tr>\n",
       "<tr><td>e7592ab57b3afd9f1...</td><td>0.0</td><td>0.0</td><td>0.0</td><td>0.0</td><td>0.0</td><td>0.0</td><td>null</td><td>null</td></tr>\n",
       "<tr><td>603afa9d1be879b7b...</td><td>0.0</td><td>0.0</td><td>0.0</td><td>0.0</td><td>0.0</td><td>0.0</td><td>null</td><td>null</td></tr>\n",
       "<tr><td>9fe2d59ddf2a4f37e...</td><td>0.0</td><td>0.0</td><td>1.0</td><td>1.0</td><td>1.0</td><td>0.0</td><td>null</td><td>75.0</td></tr>\n",
       "<tr><td>23857480ccf555ce4...</td><td>0.0</td><td>0.0</td><td>0.0</td><td>0.0</td><td>0.0</td><td>0.0</td><td>42.0</td><td>null</td></tr>\n",
       "<tr><td>7c69d5f36fdabf6e1...</td><td>0.0</td><td>0.0</td><td>0.0</td><td>0.0</td><td>0.0</td><td>0.0</td><td>null</td><td>null</td></tr>\n",
       "<tr><td>08bf9e080503b0113...</td><td>0.0</td><td>0.0</td><td>0.0</td><td>0.0</td><td>1.0</td><td>0.0</td><td>null</td><td>null</td></tr>\n",
       "<tr><td>1cafb05aa6c894c30...</td><td>0.0</td><td>0.0</td><td>0.0</td><td>0.0</td><td>0.0</td><td>0.0</td><td>null</td><td>null</td></tr>\n",
       "<tr><td>f2c4010f700d8c9c4...</td><td>0.0</td><td>0.0</td><td>0.0</td><td>0.0</td><td>0.0</td><td>0.0</td><td>29.0</td><td>null</td></tr>\n",
       "<tr><td>05ad4aed7c393035e...</td><td>0.0</td><td>0.0</td><td>1.0</td><td>1.0</td><td>4.0</td><td>0.0</td><td>null</td><td>30.0</td></tr>\n",
       "</table>\n",
       "only showing top 20 rows\n"
      ],
      "text/plain": [
       "+--------------------+-----------+-----------+-------+--------------------+--------------+------------------+----------------------+----------------------+\n",
       "|           member_id|delinq_2yrs|delinq_amnt|pub_rec|pub_rec_bankruptcies|inq_last_6mths|total_rec_late_fee|mths_since_last_delinq|mths_since_last_record|\n",
       "+--------------------+-----------+-----------+-------+--------------------+--------------+------------------+----------------------+----------------------+\n",
       "|6d5091b3fcaaeb4ea...|        0.0|        0.0|    0.0|                 0.0|           1.0|               0.0|                  30.0|                  null|\n",
       "|b5e7938b0a2da4cea...|        1.0|        0.0|    0.0|                 0.0|           4.0|               0.0|                   6.0|                  null|\n",
       "|91060b858433e8a61...|        0.0|        0.0|    0.0|                 0.0|           0.0|               0.0|                  null|                  null|\n",
       "|cab1fa9f533688b0a...|        0.0|        0.0|    0.0|                 0.0|           0.0|               0.0|                  null|                  null|\n",
       "|f74e401c1ab0adf78...|        1.0|        0.0|    0.0|                 0.0|           3.0|               0.0|                  12.0|                  null|\n",
       "|8aef4bb29d609d8d6...|        0.0|        0.0|    0.0|                 0.0|           0.0|               0.0|                  null|                  null|\n",
       "|538b4653da3b1e814...|        0.0|        0.0|    0.0|                 0.0|           0.0|               0.0|                  49.0|                  null|\n",
       "|b24d55f21390533c5...|        1.0|        0.0|    0.0|                 0.0|           0.0|               0.0|                   3.0|                  null|\n",
       "|1035c5401b0ca76d0...|        0.0|        0.0|    1.0|                 1.0|           1.0|               0.0|                  null|                 106.0|\n",
       "|cb0f1777593e77909...|        0.0|        0.0|    0.0|                 0.0|           0.0|               0.0|                  75.0|                  null|\n",
       "|a962f4d59caec5fa1...|        0.0|        0.0|    0.0|                 0.0|           0.0|               0.0|                  54.0|                  null|\n",
       "|e7592ab57b3afd9f1...|        0.0|        0.0|    0.0|                 0.0|           0.0|               0.0|                  null|                  null|\n",
       "|603afa9d1be879b7b...|        0.0|        0.0|    0.0|                 0.0|           0.0|               0.0|                  null|                  null|\n",
       "|9fe2d59ddf2a4f37e...|        0.0|        0.0|    1.0|                 1.0|           1.0|               0.0|                  null|                  75.0|\n",
       "|23857480ccf555ce4...|        0.0|        0.0|    0.0|                 0.0|           0.0|               0.0|                  42.0|                  null|\n",
       "|7c69d5f36fdabf6e1...|        0.0|        0.0|    0.0|                 0.0|           0.0|               0.0|                  null|                  null|\n",
       "|08bf9e080503b0113...|        0.0|        0.0|    0.0|                 0.0|           1.0|               0.0|                  null|                  null|\n",
       "|1cafb05aa6c894c30...|        0.0|        0.0|    0.0|                 0.0|           0.0|               0.0|                  null|                  null|\n",
       "|f2c4010f700d8c9c4...|        0.0|        0.0|    0.0|                 0.0|           0.0|               0.0|                  29.0|                  null|\n",
       "|05ad4aed7c393035e...|        0.0|        0.0|    1.0|                 1.0|           4.0|               0.0|                  null|                  30.0|\n",
       "+--------------------+-----------+-----------+-------+--------------------+--------------+------------------+----------------------+----------------------+\n",
       "only showing top 20 rows"
      ]
     },
     "execution_count": 3,
     "metadata": {},
     "output_type": "execute_result"
    }
   ],
   "source": [
    "loans_def_raw_df"
   ]
  },
  {
   "cell_type": "code",
   "execution_count": 4,
   "id": "c5e597e0",
   "metadata": {},
   "outputs": [
    {
     "name": "stdout",
     "output_type": "stream",
     "text": [
      "root\n",
      " |-- member_id: string (nullable = true)\n",
      " |-- delinq_2yrs: double (nullable = true)\n",
      " |-- delinq_amnt: double (nullable = true)\n",
      " |-- pub_rec: double (nullable = true)\n",
      " |-- pub_rec_bankruptcies: double (nullable = true)\n",
      " |-- inq_last_6mths: double (nullable = true)\n",
      " |-- total_rec_late_fee: double (nullable = true)\n",
      " |-- mths_since_last_delinq: double (nullable = true)\n",
      " |-- mths_since_last_record: double (nullable = true)\n",
      "\n"
     ]
    }
   ],
   "source": [
    "loans_def_raw_df.printSchema()"
   ]
  },
  {
   "cell_type": "code",
   "execution_count": 5,
   "id": "4802bb5e",
   "metadata": {},
   "outputs": [],
   "source": [
    "loans_def_raw_df.createOrReplaceTempView(\"loan_defaulters\")"
   ]
  },
  {
   "cell_type": "code",
   "execution_count": 6,
   "id": "e6ba0efd",
   "metadata": {},
   "outputs": [
    {
     "data": {
      "text/html": [
       "<table border='1'>\n",
       "<tr><th>delinq_2yrs</th></tr>\n",
       "<tr><td>8.0</td></tr>\n",
       "<tr><td>0.0</td></tr>\n",
       "<tr><td>7.0</td></tr>\n",
       "<tr><td>null</td></tr>\n",
       "<tr><td>18.0</td></tr>\n",
       "<tr><td>1.0</td></tr>\n",
       "<tr><td>39.0</td></tr>\n",
       "<tr><td>10.58</td></tr>\n",
       "<tr><td>4.0</td></tr>\n",
       "<tr><td>11.0</td></tr>\n",
       "<tr><td>14.0</td></tr>\n",
       "<tr><td>22.0</td></tr>\n",
       "<tr><td>3.0</td></tr>\n",
       "<tr><td>19.0</td></tr>\n",
       "<tr><td>2.0</td></tr>\n",
       "<tr><td>17.0</td></tr>\n",
       "<tr><td>27.0</td></tr>\n",
       "<tr><td>10.0</td></tr>\n",
       "<tr><td>30.0</td></tr>\n",
       "<tr><td>13.0</td></tr>\n",
       "</table>\n",
       "only showing top 20 rows\n"
      ],
      "text/plain": [
       "+-----------+\n",
       "|delinq_2yrs|\n",
       "+-----------+\n",
       "|        8.0|\n",
       "|        0.0|\n",
       "|        7.0|\n",
       "|       null|\n",
       "|       18.0|\n",
       "|        1.0|\n",
       "|       39.0|\n",
       "|      10.58|\n",
       "|        4.0|\n",
       "|       11.0|\n",
       "|       14.0|\n",
       "|       22.0|\n",
       "|        3.0|\n",
       "|       19.0|\n",
       "|        2.0|\n",
       "|       17.0|\n",
       "|       27.0|\n",
       "|       10.0|\n",
       "|       30.0|\n",
       "|       13.0|\n",
       "+-----------+\n",
       "only showing top 20 rows"
      ]
     },
     "execution_count": 6,
     "metadata": {},
     "output_type": "execute_result"
    }
   ],
   "source": [
    "spark.sql(\"select distinct(delinq_2yrs) from loan_defaulters\")"
   ]
  },
  {
   "cell_type": "code",
   "execution_count": 7,
   "id": "0f2c4e8d",
   "metadata": {},
   "outputs": [
    {
     "name": "stdout",
     "output_type": "stream",
     "text": [
      "+-----------+------+\n",
      "|delinq_2yrs| total|\n",
      "+-----------+------+\n",
      "|        0.0|369488|\n",
      "|        1.0| 61190|\n",
      "|        2.0| 18260|\n",
      "|        3.0|  6646|\n",
      "|        4.0|  3104|\n",
      "|        5.0|  1552|\n",
      "|        6.0|   885|\n",
      "|        7.0|   460|\n",
      "|        8.0|   299|\n",
      "|        9.0|   185|\n",
      "|       10.0|   139|\n",
      "|       11.0|    87|\n",
      "|       12.0|    54|\n",
      "|       13.0|    41|\n",
      "|       14.0|    39|\n",
      "|       15.0|    22|\n",
      "|       16.0|    12|\n",
      "|       17.0|     9|\n",
      "|       19.0|     6|\n",
      "|       18.0|     5|\n",
      "|       20.0|     2|\n",
      "|       null|     2|\n",
      "|       26.0|     2|\n",
      "|       39.0|     1|\n",
      "|      10.58|     1|\n",
      "|       22.0|     1|\n",
      "|       27.0|     1|\n",
      "|       30.0|     1|\n",
      "+-----------+------+\n",
      "\n"
     ]
    }
   ],
   "source": [
    "spark.sql(\"select delinq_2yrs, count(*) as total from loan_defaulters group by delinq_2yrs order by total desc\").show(40)"
   ]
  },
  {
   "cell_type": "code",
   "execution_count": 8,
   "id": "0be6c422",
   "metadata": {},
   "outputs": [],
   "source": [
    "loan_defaulters_schema = \"member_id string, delinq_2yrs float, delinq_amnt float, pub_rec float, pub_rec_bankruptcies float,inq_last_6mths float, total_rec_late_fee float, mths_since_last_delinq float, mths_since_last_record float\""
   ]
  },
  {
   "cell_type": "code",
   "execution_count": 9,
   "id": "a7251cd1",
   "metadata": {},
   "outputs": [],
   "source": [
    "loans_def_raw_df = spark.read \\\n",
    ".format(\"csv\") \\\n",
    ".option(\"header\",True) \\\n",
    ".schema(loan_defaulters_schema) \\\n",
    ".load(\"/user/itv014478/lendingclubproject/raw/loan_defaulters_data_csv\")"
   ]
  },
  {
   "cell_type": "code",
   "execution_count": 10,
   "id": "9e9f79fa",
   "metadata": {},
   "outputs": [
    {
     "name": "stdout",
     "output_type": "stream",
     "text": [
      "root\n",
      " |-- member_id: string (nullable = true)\n",
      " |-- delinq_2yrs: float (nullable = true)\n",
      " |-- delinq_amnt: float (nullable = true)\n",
      " |-- pub_rec: float (nullable = true)\n",
      " |-- pub_rec_bankruptcies: float (nullable = true)\n",
      " |-- inq_last_6mths: float (nullable = true)\n",
      " |-- total_rec_late_fee: float (nullable = true)\n",
      " |-- mths_since_last_delinq: float (nullable = true)\n",
      " |-- mths_since_last_record: float (nullable = true)\n",
      "\n"
     ]
    }
   ],
   "source": [
    "loans_def_raw_df.printSchema()"
   ]
  },
  {
   "cell_type": "code",
   "execution_count": 11,
   "id": "0def6a59",
   "metadata": {},
   "outputs": [],
   "source": [
    "loans_def_raw_df.createOrReplaceTempView(\"loan_defaulters\")"
   ]
  },
  {
   "cell_type": "code",
   "execution_count": 12,
   "id": "5cbb2bae",
   "metadata": {},
   "outputs": [
    {
     "name": "stdout",
     "output_type": "stream",
     "text": [
      "+-----------+------+\n",
      "|delinq_2yrs| total|\n",
      "+-----------+------+\n",
      "|        0.0|369488|\n",
      "|        1.0| 61190|\n",
      "|        2.0| 18260|\n",
      "|        3.0|  6646|\n",
      "|        4.0|  3104|\n",
      "|        5.0|  1552|\n",
      "|        6.0|   885|\n",
      "|        7.0|   460|\n",
      "|        8.0|   299|\n",
      "|        9.0|   185|\n",
      "|       10.0|   139|\n",
      "|       11.0|    87|\n",
      "|       12.0|    54|\n",
      "|       13.0|    41|\n",
      "|       14.0|    39|\n",
      "|       15.0|    22|\n",
      "|       16.0|    12|\n",
      "|       17.0|     9|\n",
      "|       19.0|     6|\n",
      "|       18.0|     5|\n",
      "|       20.0|     2|\n",
      "|       null|     2|\n",
      "|       26.0|     2|\n",
      "|       30.0|     1|\n",
      "|      10.58|     1|\n",
      "|       39.0|     1|\n",
      "|       22.0|     1|\n",
      "|       27.0|     1|\n",
      "+-----------+------+\n",
      "\n"
     ]
    }
   ],
   "source": [
    "spark.sql(\"select delinq_2yrs, count(*) as total from loan_defaulters group by delinq_2yrs order by total desc\").show(40)"
   ]
  },
  {
   "cell_type": "code",
   "execution_count": 13,
   "id": "deafc8c7",
   "metadata": {},
   "outputs": [],
   "source": [
    "from pyspark.sql.functions import col"
   ]
  },
  {
   "cell_type": "code",
   "execution_count": 14,
   "id": "44d69621",
   "metadata": {},
   "outputs": [],
   "source": [
    "loans_def_processed_df = loans_def_raw_df.withColumn(\"delinq_2yrs\", col(\"delinq_2yrs\").cast(\"integer\")).fillna(0, subset = [\"delinq_2yrs\"])"
   ]
  },
  {
   "cell_type": "code",
   "execution_count": 15,
   "id": "d4fecf31",
   "metadata": {},
   "outputs": [],
   "source": [
    "loans_def_processed_df.createOrReplaceTempView(\"loan_defaulters\")"
   ]
  },
  {
   "cell_type": "code",
   "execution_count": 16,
   "id": "51807957",
   "metadata": {},
   "outputs": [
    {
     "data": {
      "text/html": [
       "<table border='1'>\n",
       "<tr><th>count(1)</th></tr>\n",
       "<tr><td>0</td></tr>\n",
       "</table>\n"
      ],
      "text/plain": [
       "+--------+\n",
       "|count(1)|\n",
       "+--------+\n",
       "|       0|\n",
       "+--------+"
      ]
     },
     "execution_count": 16,
     "metadata": {},
     "output_type": "execute_result"
    }
   ],
   "source": [
    "spark.sql(\"select count(*) from loan_defaulters where delinq_2yrs is null\")"
   ]
  },
  {
   "cell_type": "code",
   "execution_count": 18,
   "id": "2bc653ee",
   "metadata": {},
   "outputs": [
    {
     "data": {
      "text/html": [
       "<table border='1'>\n",
       "<tr><th>delinq_2yrs</th><th>total</th></tr>\n",
       "<tr><td>0</td><td>369490</td></tr>\n",
       "<tr><td>1</td><td>61190</td></tr>\n",
       "<tr><td>2</td><td>18260</td></tr>\n",
       "<tr><td>3</td><td>6646</td></tr>\n",
       "<tr><td>4</td><td>3104</td></tr>\n",
       "<tr><td>5</td><td>1552</td></tr>\n",
       "<tr><td>6</td><td>885</td></tr>\n",
       "<tr><td>7</td><td>460</td></tr>\n",
       "<tr><td>8</td><td>299</td></tr>\n",
       "<tr><td>9</td><td>185</td></tr>\n",
       "<tr><td>10</td><td>140</td></tr>\n",
       "<tr><td>11</td><td>87</td></tr>\n",
       "<tr><td>12</td><td>54</td></tr>\n",
       "<tr><td>13</td><td>41</td></tr>\n",
       "<tr><td>14</td><td>39</td></tr>\n",
       "<tr><td>15</td><td>22</td></tr>\n",
       "<tr><td>16</td><td>12</td></tr>\n",
       "<tr><td>17</td><td>9</td></tr>\n",
       "<tr><td>19</td><td>6</td></tr>\n",
       "<tr><td>18</td><td>5</td></tr>\n",
       "</table>\n",
       "only showing top 20 rows\n"
      ],
      "text/plain": [
       "+-----------+------+\n",
       "|delinq_2yrs| total|\n",
       "+-----------+------+\n",
       "|          0|369490|\n",
       "|          1| 61190|\n",
       "|          2| 18260|\n",
       "|          3|  6646|\n",
       "|          4|  3104|\n",
       "|          5|  1552|\n",
       "|          6|   885|\n",
       "|          7|   460|\n",
       "|          8|   299|\n",
       "|          9|   185|\n",
       "|         10|   140|\n",
       "|         11|    87|\n",
       "|         12|    54|\n",
       "|         13|    41|\n",
       "|         14|    39|\n",
       "|         15|    22|\n",
       "|         16|    12|\n",
       "|         17|     9|\n",
       "|         19|     6|\n",
       "|         18|     5|\n",
       "+-----------+------+\n",
       "only showing top 20 rows"
      ]
     },
     "execution_count": 18,
     "metadata": {},
     "output_type": "execute_result"
    }
   ],
   "source": [
    "spark.sql(\"select delinq_2yrs, count(*) as total from loan_defaulters group by delinq_2yrs order by total desc\")"
   ]
  },
  {
   "cell_type": "code",
   "execution_count": 19,
   "id": "26f385fa",
   "metadata": {},
   "outputs": [],
   "source": [
    "loans_def_delinq_df = spark.sql(\"select member_id,delinq_2yrs, delinq_amnt, int(mths_since_last_delinq) from loan_defaulters where delinq_2yrs > 0 or mths_since_last_delinq > 0\")"
   ]
  },
  {
   "cell_type": "code",
   "execution_count": 20,
   "id": "10df3b4b",
   "metadata": {},
   "outputs": [
    {
     "data": {
      "text/html": [
       "<table border='1'>\n",
       "<tr><th>member_id</th><th>delinq_2yrs</th><th>delinq_amnt</th><th>mths_since_last_delinq</th></tr>\n",
       "<tr><td>6d5091b3fcaaeb4ea...</td><td>0</td><td>0.0</td><td>30</td></tr>\n",
       "<tr><td>b5e7938b0a2da4cea...</td><td>1</td><td>0.0</td><td>6</td></tr>\n",
       "<tr><td>f74e401c1ab0adf78...</td><td>1</td><td>0.0</td><td>12</td></tr>\n",
       "<tr><td>538b4653da3b1e814...</td><td>0</td><td>0.0</td><td>49</td></tr>\n",
       "<tr><td>b24d55f21390533c5...</td><td>1</td><td>0.0</td><td>3</td></tr>\n",
       "<tr><td>cb0f1777593e77909...</td><td>0</td><td>0.0</td><td>75</td></tr>\n",
       "<tr><td>a962f4d59caec5fa1...</td><td>0</td><td>0.0</td><td>54</td></tr>\n",
       "<tr><td>23857480ccf555ce4...</td><td>0</td><td>0.0</td><td>42</td></tr>\n",
       "<tr><td>f2c4010f700d8c9c4...</td><td>0</td><td>0.0</td><td>29</td></tr>\n",
       "<tr><td>0d3c568ff6944b11c...</td><td>0</td><td>0.0</td><td>33</td></tr>\n",
       "<tr><td>18889919d4248ff48...</td><td>1</td><td>0.0</td><td>15</td></tr>\n",
       "<tr><td>49c691121315ceeac...</td><td>2</td><td>0.0</td><td>18</td></tr>\n",
       "<tr><td>d04ae2a3b9e2e686e...</td><td>0</td><td>0.0</td><td>47</td></tr>\n",
       "<tr><td>259af6637d622a8fc...</td><td>0</td><td>0.0</td><td>33</td></tr>\n",
       "<tr><td>263b2b8177d69a09e...</td><td>0</td><td>0.0</td><td>33</td></tr>\n",
       "<tr><td>0d7e498df54d38160...</td><td>0</td><td>0.0</td><td>35</td></tr>\n",
       "<tr><td>dc3d024374b1d2cb4...</td><td>1</td><td>0.0</td><td>23</td></tr>\n",
       "<tr><td>c968abcd0831fe0a9...</td><td>0</td><td>0.0</td><td>38</td></tr>\n",
       "<tr><td>25df9cff7c21666b9...</td><td>2</td><td>0.0</td><td>8</td></tr>\n",
       "<tr><td>5840f34a041b29a6b...</td><td>0</td><td>0.0</td><td>70</td></tr>\n",
       "</table>\n",
       "only showing top 20 rows\n"
      ],
      "text/plain": [
       "+--------------------+-----------+-----------+----------------------+\n",
       "|           member_id|delinq_2yrs|delinq_amnt|mths_since_last_delinq|\n",
       "+--------------------+-----------+-----------+----------------------+\n",
       "|6d5091b3fcaaeb4ea...|          0|        0.0|                    30|\n",
       "|b5e7938b0a2da4cea...|          1|        0.0|                     6|\n",
       "|f74e401c1ab0adf78...|          1|        0.0|                    12|\n",
       "|538b4653da3b1e814...|          0|        0.0|                    49|\n",
       "|b24d55f21390533c5...|          1|        0.0|                     3|\n",
       "|cb0f1777593e77909...|          0|        0.0|                    75|\n",
       "|a962f4d59caec5fa1...|          0|        0.0|                    54|\n",
       "|23857480ccf555ce4...|          0|        0.0|                    42|\n",
       "|f2c4010f700d8c9c4...|          0|        0.0|                    29|\n",
       "|0d3c568ff6944b11c...|          0|        0.0|                    33|\n",
       "|18889919d4248ff48...|          1|        0.0|                    15|\n",
       "|49c691121315ceeac...|          2|        0.0|                    18|\n",
       "|d04ae2a3b9e2e686e...|          0|        0.0|                    47|\n",
       "|259af6637d622a8fc...|          0|        0.0|                    33|\n",
       "|263b2b8177d69a09e...|          0|        0.0|                    33|\n",
       "|0d7e498df54d38160...|          0|        0.0|                    35|\n",
       "|dc3d024374b1d2cb4...|          1|        0.0|                    23|\n",
       "|c968abcd0831fe0a9...|          0|        0.0|                    38|\n",
       "|25df9cff7c21666b9...|          2|        0.0|                     8|\n",
       "|5840f34a041b29a6b...|          0|        0.0|                    70|\n",
       "+--------------------+-----------+-----------+----------------------+\n",
       "only showing top 20 rows"
      ]
     },
     "execution_count": 20,
     "metadata": {},
     "output_type": "execute_result"
    }
   ],
   "source": [
    "loans_def_delinq_df"
   ]
  },
  {
   "cell_type": "code",
   "execution_count": 21,
   "id": "7e22214a",
   "metadata": {},
   "outputs": [
    {
     "data": {
      "text/plain": [
       "236775"
      ]
     },
     "execution_count": 21,
     "metadata": {},
     "output_type": "execute_result"
    }
   ],
   "source": [
    "loans_def_delinq_df.count()"
   ]
  },
  {
   "cell_type": "code",
   "execution_count": 22,
   "id": "f3a05a76",
   "metadata": {},
   "outputs": [],
   "source": [
    "loans_def_records_enq_df = spark.sql(\"select member_id from loan_defaulters where pub_rec > 0.0 or pub_rec_bankruptcies > 0.0 or inq_last_6mths > 0.0\")"
   ]
  },
  {
   "cell_type": "code",
   "execution_count": 23,
   "id": "97a5986d",
   "metadata": {},
   "outputs": [
    {
     "data": {
      "text/html": [
       "<table border='1'>\n",
       "<tr><th>member_id</th></tr>\n",
       "<tr><td>6d5091b3fcaaeb4ea...</td></tr>\n",
       "<tr><td>b5e7938b0a2da4cea...</td></tr>\n",
       "<tr><td>f74e401c1ab0adf78...</td></tr>\n",
       "<tr><td>1035c5401b0ca76d0...</td></tr>\n",
       "<tr><td>9fe2d59ddf2a4f37e...</td></tr>\n",
       "<tr><td>08bf9e080503b0113...</td></tr>\n",
       "<tr><td>05ad4aed7c393035e...</td></tr>\n",
       "<tr><td>0d3c568ff6944b11c...</td></tr>\n",
       "<tr><td>18889919d4248ff48...</td></tr>\n",
       "<tr><td>159b209fd25dff55b...</td></tr>\n",
       "<tr><td>4a968e91c3ec52c4b...</td></tr>\n",
       "<tr><td>d04ae2a3b9e2e686e...</td></tr>\n",
       "<tr><td>259af6637d622a8fc...</td></tr>\n",
       "<tr><td>263b2b8177d69a09e...</td></tr>\n",
       "<tr><td>4ec317a8d203c4489...</td></tr>\n",
       "<tr><td>0d7e498df54d38160...</td></tr>\n",
       "<tr><td>dc3d024374b1d2cb4...</td></tr>\n",
       "<tr><td>65470d4d756d84072...</td></tr>\n",
       "<tr><td>833ef5fdb767e5fdd...</td></tr>\n",
       "<tr><td>25df9cff7c21666b9...</td></tr>\n",
       "</table>\n",
       "only showing top 20 rows\n"
      ],
      "text/plain": [
       "+--------------------+\n",
       "|           member_id|\n",
       "+--------------------+\n",
       "|6d5091b3fcaaeb4ea...|\n",
       "|b5e7938b0a2da4cea...|\n",
       "|f74e401c1ab0adf78...|\n",
       "|1035c5401b0ca76d0...|\n",
       "|9fe2d59ddf2a4f37e...|\n",
       "|08bf9e080503b0113...|\n",
       "|05ad4aed7c393035e...|\n",
       "|0d3c568ff6944b11c...|\n",
       "|18889919d4248ff48...|\n",
       "|159b209fd25dff55b...|\n",
       "|4a968e91c3ec52c4b...|\n",
       "|d04ae2a3b9e2e686e...|\n",
       "|259af6637d622a8fc...|\n",
       "|263b2b8177d69a09e...|\n",
       "|4ec317a8d203c4489...|\n",
       "|0d7e498df54d38160...|\n",
       "|dc3d024374b1d2cb4...|\n",
       "|65470d4d756d84072...|\n",
       "|833ef5fdb767e5fdd...|\n",
       "|25df9cff7c21666b9...|\n",
       "+--------------------+\n",
       "only showing top 20 rows"
      ]
     },
     "execution_count": 23,
     "metadata": {},
     "output_type": "execute_result"
    }
   ],
   "source": [
    "loans_def_records_enq_df"
   ]
  },
  {
   "cell_type": "code",
   "execution_count": 24,
   "id": "ad1dad92",
   "metadata": {},
   "outputs": [
    {
     "data": {
      "text/plain": [
       "219605"
      ]
     },
     "execution_count": 24,
     "metadata": {},
     "output_type": "execute_result"
    }
   ],
   "source": [
    "loans_def_records_enq_df.count()"
   ]
  },
  {
   "cell_type": "code",
   "execution_count": 25,
   "id": "95c4d37c",
   "metadata": {},
   "outputs": [],
   "source": [
    "loans_def_delinq_df.write \\\n",
    ".option(\"header\", True) \\\n",
    ".format(\"csv\") \\\n",
    ".mode(\"overwrite\") \\\n",
    ".option(\"path\", \"/user/itv014478/lendingclubproject/cleaned/loans_defaulters_deling_csv\") \\\n",
    ".save()"
   ]
  },
  {
   "cell_type": "code",
   "execution_count": 26,
   "id": "49877f4d",
   "metadata": {},
   "outputs": [],
   "source": [
    "loans_def_delinq_df.write \\\n",
    ".format(\"parquet\") \\\n",
    ".mode(\"overwrite\") \\\n",
    ".option(\"path\", \"/user/itv014478/lendingclubproject/cleaned/loans_defaulters_deling_parquet\") \\\n",
    ".save()"
   ]
  },
  {
   "cell_type": "code",
   "execution_count": 27,
   "id": "fc2080af",
   "metadata": {},
   "outputs": [],
   "source": [
    "loans_def_records_enq_df.write \\\n",
    ".option(\"header\", True) \\\n",
    ".format(\"csv\") \\\n",
    ".mode(\"overwrite\") \\\n",
    ".option(\"path\", \"/user/itv014478/lendingclubproject/cleaned/loans_defaulters_records_enq_csv\") \\\n",
    ".save()"
   ]
  },
  {
   "cell_type": "code",
   "execution_count": 28,
   "id": "7448318b",
   "metadata": {},
   "outputs": [],
   "source": [
    "loans_def_records_enq_df.write \\\n",
    ".format(\"parquet\") \\\n",
    ".mode(\"overwrite\") \\\n",
    ".option(\"path\", \"/user/itv014478/lendingclubproject/cleaned/loans_defaulters_records_enq_parquet\") \\\n",
    ".save()"
   ]
  },
  {
   "cell_type": "code",
   "execution_count": null,
   "id": "2e2a2e2f",
   "metadata": {},
   "outputs": [],
   "source": []
  }
 ],
 "metadata": {
  "kernelspec": {
   "display_name": "Pyspark 3",
   "language": "python",
   "name": "pyspark3"
  },
  "language_info": {
   "codemirror_mode": {
    "name": "ipython",
    "version": 3
   },
   "file_extension": ".py",
   "mimetype": "text/x-python",
   "name": "python",
   "nbconvert_exporter": "python",
   "pygments_lexer": "ipython3",
   "version": "3.6.12"
  }
 },
 "nbformat": 4,
 "nbformat_minor": 5
}
