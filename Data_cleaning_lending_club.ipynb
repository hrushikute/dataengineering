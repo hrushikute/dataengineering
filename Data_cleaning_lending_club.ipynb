{
 "cells": [
  {
   "cell_type": "markdown",
   "id": "d1118d3c",
   "metadata": {},
   "source": [
    "**Cleanning the customer dat**\n",
    "\n",
    "1. create a dataframe with proper datatyes\n",
    "\n",
    "2. Rename a few coloumn\n",
    "\n",
    "3. Insert a new coloumn as ingestion date(current time stamp)\n",
    "\n",
    "4. Remove complete duplicate records\n",
    "\n",
    "5. Remove rows with annual income as null.\n",
    "\n",
    "6. convert emp lenght to integer\n",
    "\n",
    "7. need to replace nulls in emp_lenght with avg og the coloumn\n",
    "\n",
    "8. clean the address_state (should be 2 chars)\n",
    "\n",
    "9. write cleaned customers data in cleaned folder "
   ]
  },
  {
   "cell_type": "code",
   "execution_count": 1,
   "id": "f77b6a79",
   "metadata": {},
   "outputs": [],
   "source": [
    "#import the necessary libs\n",
    "\n",
    "from pyspark.sql import SparkSession\n",
    "import getpass\n",
    "\n",
    "username=getpass.getuser()\n",
    "spark=SparkSession. \\\n",
    "    builder. \\\n",
    "    config('spark.ui.port','0'). \\\n",
    "    config(\"spark.suffle.useOldFetchProtocol\",'true'). \\\n",
    "    config(\"spark.dql.warehouse.dir\",f\"/user/{username}/warehouse\"). \\\n",
    "    enableHiveSupport(). \\\n",
    "    master('yarn'). \\\n",
    "    getOrCreate()"
   ]
  },
  {
   "cell_type": "code",
   "execution_count": 2,
   "id": "7a679ce9",
   "metadata": {},
   "outputs": [],
   "source": [
    "customers_df=spark.read \\\n",
    "    .format(\"csv\") \\\n",
    "    .option(\"inferSchema\", \"True\") \\\n",
    "    .option(\"header\", \"True\") \\\n",
    "    .load(\"/user/itv014478/lendingclubproject/raw/customer_data_csv\")"
   ]
  },
  {
   "cell_type": "code",
   "execution_count": 3,
   "id": "015bf173",
   "metadata": {},
   "outputs": [
    {
     "name": "stdout",
     "output_type": "stream",
     "text": [
      "root\n",
      " |-- member_id: string (nullable = true)\n",
      " |-- emp_title: string (nullable = true)\n",
      " |-- emp_length: string (nullable = true)\n",
      " |-- home_ownership: string (nullable = true)\n",
      " |-- annual_inc: string (nullable = true)\n",
      " |-- addr_state: string (nullable = true)\n",
      " |-- zip_code: string (nullable = true)\n",
      " |-- country: string (nullable = true)\n",
      " |-- grade: string (nullable = true)\n",
      " |-- sub_grade: string (nullable = true)\n",
      " |-- verification_status: string (nullable = true)\n",
      " |-- tot_hi_cred_lim: double (nullable = true)\n",
      " |-- application_type: string (nullable = true)\n",
      " |-- annual_inc_joint: string (nullable = true)\n",
      " |-- verification_status_joint: string (nullable = true)\n",
      "\n"
     ]
    }
   ],
   "source": [
    "customers_df.printSchema()"
   ]
  },
  {
   "cell_type": "markdown",
   "id": "6e83e3fe",
   "metadata": {},
   "source": [
    "**create a dataframe with proper datatyes**"
   ]
  },
  {
   "cell_type": "code",
   "execution_count": 4,
   "id": "fe59c80b",
   "metadata": {},
   "outputs": [],
   "source": [
    "customer_schema=\"member_id string,emp_title string,emp_length string,home_ownership string,annual_inc float,addr_state string,zip_code string,country string,grade string,sub_grade string,verification_status string,tot_hi_cred_lim float,application_type string,annual_inc_joint string,verification_status_joint string\""
   ]
  },
  {
   "cell_type": "code",
   "execution_count": 5,
   "id": "999c529f",
   "metadata": {},
   "outputs": [],
   "source": [
    "customers_df=spark.read \\\n",
    "    .format(\"csv\") \\\n",
    "    .schema(customer_schema) \\\n",
    "    .option(\"header\", \"True\") \\\n",
    "    .load(\"/user/itv014478/lendingclubproject/raw/customer_data_csv\")"
   ]
  },
  {
   "cell_type": "code",
   "execution_count": 6,
   "id": "6d38ee49",
   "metadata": {},
   "outputs": [
    {
     "name": "stdout",
     "output_type": "stream",
     "text": [
      "root\n",
      " |-- member_id: string (nullable = true)\n",
      " |-- emp_title: string (nullable = true)\n",
      " |-- emp_length: string (nullable = true)\n",
      " |-- home_ownership: string (nullable = true)\n",
      " |-- annual_inc: float (nullable = true)\n",
      " |-- addr_state: string (nullable = true)\n",
      " |-- zip_code: string (nullable = true)\n",
      " |-- country: string (nullable = true)\n",
      " |-- grade: string (nullable = true)\n",
      " |-- sub_grade: string (nullable = true)\n",
      " |-- verification_status: string (nullable = true)\n",
      " |-- tot_hi_cred_lim: float (nullable = true)\n",
      " |-- application_type: string (nullable = true)\n",
      " |-- annual_inc_joint: string (nullable = true)\n",
      " |-- verification_status_joint: string (nullable = true)\n",
      "\n"
     ]
    }
   ],
   "source": [
    "customers_df.printSchema()"
   ]
  },
  {
   "cell_type": "code",
   "execution_count": 7,
   "id": "fe4caa2e",
   "metadata": {},
   "outputs": [],
   "source": [
    "#Rename a few coloumn\n",
    "\n",
    "customers_df_renamed=customers_df.withColumnRenamed(\"annual_inc\", \"annual_income\") \\\n",
    ".withColumnRenamed(\"addr_state\",\"address_state\") \\\n",
    ".withColumnRenamed(\"zip_code\",\"address_zipcode\") \\\n",
    ".withColumnRenamed(\"country\",\"address_country\") \\\n",
    ".withColumnRenamed(\"tot_hi_cref_lim\",\"total_high_credit_limit\") \\\n",
    ".withColumnRenamed(\"annual_inc_joint\",\"joint_annual_income\")"
   ]
  },
  {
   "cell_type": "code",
   "execution_count": 8,
   "id": "1c25bd39",
   "metadata": {},
   "outputs": [
    {
     "name": "stdout",
     "output_type": "stream",
     "text": [
      "+--------------------+--------------------+----------+--------------+-------------+----------+---------------+---------------+-----+---------+-------------------+---------------+----------------+-------------------+-------------------------+\n",
      "|           member_id|           emp_title|emp_length|home_ownership|annual_income|addr_state|address_zipcode|address_country|grade|sub_grade|verification_status|tot_hi_cred_lim|application_type|joint_annual_income|verification_status_joint|\n",
      "+--------------------+--------------------+----------+--------------+-------------+----------+---------------+---------------+-----+---------+-------------------+---------------+----------------+-------------------+-------------------------+\n",
      "|6d5091b3fcaaeb4ea...|             leadman| 10+ years|      MORTGAGE|      55000.0|        PA|          190xx|            USA|    C|       C4|       Not Verified|       178050.0|      Individual|               null|                     null|\n",
      "|b5e7938b0a2da4cea...|            Engineer| 10+ years|      MORTGAGE|      65000.0|        SD|          577xx|            USA|    C|       C1|       Not Verified|       314017.0|      Individual|               null|                     null|\n",
      "|91060b858433e8a61...|        truck driver| 10+ years|      MORTGAGE|      63000.0|        IL|          605xx|            USA|    B|       B4|       Not Verified|       218418.0|       Joint App|            71000.0|             Not Verified|\n",
      "|cab1fa9f533688b0a...|Information Syste...| 10+ years|      MORTGAGE|     110000.0|        NJ|          076xx|            USA|    C|       C5|    Source Verified|       381215.0|      Individual|               null|                     null|\n",
      "|f74e401c1ab0adf78...| Contract Specialist|   3 years|      MORTGAGE|     104433.0|        PA|          174xx|            USA|    F|       F1|    Source Verified|       439570.0|      Individual|               null|                     null|\n",
      "|8aef4bb29d609d8d6...|Veterinary Tecnician|   4 years|          RENT|      34000.0|        GA|          300xx|            USA|    C|       C3|    Source Verified|        16900.0|      Individual|               null|                     null|\n",
      "|538b4653da3b1e814...|Vice President of...| 10+ years|      MORTGAGE|     180000.0|        MN|          550xx|            USA|    B|       B2|       Not Verified|       388852.0|      Individual|               null|                     null|\n",
      "|b24d55f21390533c5...|         road driver| 10+ years|      MORTGAGE|      85000.0|        SC|          293xx|            USA|    B|       B1|       Not Verified|       193390.0|      Individual|               null|                     null|\n",
      "|1035c5401b0ca76d0...|     SERVICE MANAGER|   6 years|          RENT|      85000.0|        PA|          160xx|            USA|    A|       A2|       Not Verified|        61099.0|      Individual|               null|                     null|\n",
      "|cb0f1777593e77909...|      Vendor liaison| 10+ years|      MORTGAGE|      42000.0|        RI|          029xx|            USA|    B|       B5|       Not Verified|       256513.0|      Individual|               null|                     null|\n",
      "|a962f4d59caec5fa1...|  Executive Director|   6 years|      MORTGAGE|      95000.0|        SC|          290xx|            USA|    C|       C2|       Not Verified|       436841.0|      Individual|               null|                     null|\n",
      "|e7592ab57b3afd9f1...|Senior Structural...|    1 year|      MORTGAGE|      70000.0|        TX|          786xx|            USA|    C|       C2|       Not Verified|       309638.0|      Individual|               null|                     null|\n",
      "|603afa9d1be879b7b...|   Logistics Manager|   3 years|      MORTGAGE|      64000.0|        NC|          275xx|            USA|    C|       C2|       Not Verified|       372109.0|      Individual|               null|                     null|\n",
      "|9fe2d59ddf2a4f37e...|    Software Manager|   7 years|          RENT|     150000.0|        CA|          916xx|            USA|    E|       E2|       Not Verified|        65819.0|      Individual|               null|                     null|\n",
      "|23857480ccf555ce4...|      Senior Manager| 10+ years|      MORTGAGE|      92000.0|        NC|          275xx|            USA|    A|       A2|       Not Verified|       304003.0|      Individual|               null|                     null|\n",
      "|7c69d5f36fdabf6e1...|                tech|   8 years|      MORTGAGE|      60000.0|        SC|          299xx|            USA|    A|       A4|       Not Verified|        88635.0|      Individual|               null|                     null|\n",
      "|08bf9e080503b0113...|       Sales Manager| 10+ years|      MORTGAGE|     109000.0|        VA|          226xx|            USA|    A|       A4|       Not Verified|       373572.0|      Individual|               null|                     null|\n",
      "|1cafb05aa6c894c30...|               GS-11| 10+ years|      MORTGAGE|     112000.0|        AZ|          856xx|            USA|    C|       C1|       Not Verified|       309710.0|      Individual|               null|                     null|\n",
      "|f2c4010f700d8c9c4...|             Teacher|   5 years|          RENT|      64000.0|        NY|          117xx|            USA|    B|       B1|       Not Verified|        93962.0|      Individual|               null|                     null|\n",
      "|05ad4aed7c393035e...| Program Coordinator|   8 years|          RENT|      55000.0|        IN|          462xx|            USA|    E|       E3|           Verified|        38998.0|      Individual|               null|                     null|\n",
      "+--------------------+--------------------+----------+--------------+-------------+----------+---------------+---------------+-----+---------+-------------------+---------------+----------------+-------------------+-------------------------+\n",
      "only showing top 20 rows\n",
      "\n"
     ]
    }
   ],
   "source": [
    "customers_df_renamed.show()"
   ]
  },
  {
   "cell_type": "code",
   "execution_count": 9,
   "id": "1c504831",
   "metadata": {},
   "outputs": [],
   "source": [
    "#Insert a new coloumn as ingestion date(current time stamp)\n",
    "\n",
    "\n",
    "from pyspark.sql.functions import current_timestamp\n",
    "customers_df_ingested=customers_df_renamed.withColumn(\"ingest_date\",current_timestamp())"
   ]
  },
  {
   "cell_type": "code",
   "execution_count": 10,
   "id": "4ea9cbfd",
   "metadata": {},
   "outputs": [
    {
     "data": {
      "text/plain": [
       "462494"
      ]
     },
     "execution_count": 10,
     "metadata": {},
     "output_type": "execute_result"
    }
   ],
   "source": [
    "customers_df_ingested.count()"
   ]
  },
  {
   "cell_type": "code",
   "execution_count": 11,
   "id": "528ac661",
   "metadata": {},
   "outputs": [],
   "source": [
    "#Remove complete duplicate records\n",
    "customer_df_distinct=customers_df_ingested.distinct()"
   ]
  },
  {
   "cell_type": "code",
   "execution_count": 12,
   "id": "750f61dc",
   "metadata": {},
   "outputs": [
    {
     "data": {
      "text/plain": [
       "462488"
      ]
     },
     "execution_count": 12,
     "metadata": {},
     "output_type": "execute_result"
    }
   ],
   "source": [
    "customer_df_distinct.count()"
   ]
  },
  {
   "cell_type": "code",
   "execution_count": 13,
   "id": "e0d06484",
   "metadata": {},
   "outputs": [],
   "source": [
    "customer_df_distinct.createOrReplaceTempView(\"customers\")"
   ]
  },
  {
   "cell_type": "code",
   "execution_count": 14,
   "id": "fac65aea",
   "metadata": {},
   "outputs": [
    {
     "data": {
      "text/html": [
       "<table border='1'>\n",
       "<tr><th>member_id</th><th>emp_title</th><th>emp_length</th><th>home_ownership</th><th>annual_income</th><th>addr_state</th><th>address_zipcode</th><th>address_country</th><th>grade</th><th>sub_grade</th><th>verification_status</th><th>tot_hi_cred_lim</th><th>application_type</th><th>joint_annual_income</th><th>verification_status_joint</th><th>ingest_date</th></tr>\n",
       "<tr><td>3d6b18547c79937bf...</td><td>Program Manager</td><td>7 years</td><td>OWN</td><td>102000.0</td><td>VA</td><td>225xx</td><td>USA</td><td>C</td><td>C5</td><td>Not Verified</td><td>104252.0</td><td>Individual</td><td>null</td><td>null</td><td>2024-10-22 11:04:...</td></tr>\n",
       "<tr><td>f651f7c77ad2e2d99...</td><td>Senior Analyst</td><td>10+ years</td><td>MORTGAGE</td><td>105000.0</td><td>GA</td><td>300xx</td><td>USA</td><td>F</td><td>F3</td><td>Source Verified</td><td>389349.0</td><td>Individual</td><td>null</td><td>null</td><td>2024-10-22 11:04:...</td></tr>\n",
       "<tr><td>4dbf2f3d012c19d35...</td><td>Produce Manager</td><td>&lt; 1 year</td><td>RENT</td><td>50000.0</td><td>IL</td><td>607xx</td><td>USA</td><td>B</td><td>B5</td><td>Not Verified</td><td>37550.0</td><td>Individual</td><td>null</td><td>null</td><td>2024-10-22 11:04:...</td></tr>\n",
       "<tr><td>8ccefd35d022e9d58...</td><td>Ranch manager</td><td>10+ years</td><td>OWN</td><td>52000.0</td><td>CA</td><td>937xx</td><td>USA</td><td>A</td><td>A5</td><td>Verified</td><td>56500.0</td><td>Individual</td><td>null</td><td>null</td><td>2024-10-22 11:04:...</td></tr>\n",
       "<tr><td>04a239bd3b937e90f...</td><td>Laborer</td><td>10+ years</td><td>MORTGAGE</td><td>100000.0</td><td>IL</td><td>611xx</td><td>USA</td><td>A</td><td>A3</td><td>Not Verified</td><td>157950.0</td><td>Individual</td><td>null</td><td>null</td><td>2024-10-22 11:04:...</td></tr>\n",
       "<tr><td>ea34c8f9b3407f941...</td><td>mechanic</td><td>10+ years</td><td>MORTGAGE</td><td>80000.0</td><td>OK</td><td>740xx</td><td>USA</td><td>B</td><td>B1</td><td>Source Verified</td><td>200343.0</td><td>Individual</td><td>null</td><td>null</td><td>2024-10-22 11:04:...</td></tr>\n",
       "<tr><td>b3c2ddc2956466fd6...</td><td>Store manager</td><td>7 years</td><td>RENT</td><td>37000.0</td><td>FL</td><td>323xx</td><td>USA</td><td>B</td><td>B5</td><td>Verified</td><td>124636.0</td><td>Individual</td><td>null</td><td>null</td><td>2024-10-22 11:04:...</td></tr>\n",
       "<tr><td>ef56645d4be3d1fd3...</td><td>ACCOUNTS PAYABLE</td><td>10+ years</td><td>RENT</td><td>77856.0</td><td>NJ</td><td>073xx</td><td>USA</td><td>B</td><td>B4</td><td>Verified</td><td>82077.0</td><td>Individual</td><td>null</td><td>null</td><td>2024-10-22 11:04:...</td></tr>\n",
       "<tr><td>18806938d2feebf62...</td><td>Associate</td><td>&lt; 1 year</td><td>RENT</td><td>76000.0</td><td>NY</td><td>113xx</td><td>USA</td><td>A</td><td>A5</td><td>Source Verified</td><td>102194.0</td><td>Individual</td><td>null</td><td>null</td><td>2024-10-22 11:04:...</td></tr>\n",
       "<tr><td>05708ce68b471b65a...</td><td>Investment Manager</td><td>3 years</td><td>RENT</td><td>160000.0</td><td>KY</td><td>402xx</td><td>USA</td><td>E</td><td>E3</td><td>Verified</td><td>113398.0</td><td>Individual</td><td>null</td><td>null</td><td>2024-10-22 11:04:...</td></tr>\n",
       "</table>\n"
      ],
      "text/plain": [
       "+--------------------+--------------------+----------+--------------+-------------+----------+---------------+---------------+-----+---------+-------------------+---------------+----------------+-------------------+-------------------------+--------------------+\n",
       "|           member_id|           emp_title|emp_length|home_ownership|annual_income|addr_state|address_zipcode|address_country|grade|sub_grade|verification_status|tot_hi_cred_lim|application_type|joint_annual_income|verification_status_joint|         ingest_date|\n",
       "+--------------------+--------------------+----------+--------------+-------------+----------+---------------+---------------+-----+---------+-------------------+---------------+----------------+-------------------+-------------------------+--------------------+\n",
       "|22f88d0d66ed192b8...|     hvac technician|   4 years|      MORTGAGE|      75000.0|        NY|          114xx|            USA|    F|       F3|       Not Verified|       344960.0|      Individual|               null|                     null|2024-10-22 11:04:...|\n",
       "|bc1333679188b4d01...|          groundsman| 10+ years|      MORTGAGE|      65000.0|        NY|          117xx|            USA|    D|       D3|       Not Verified|       253900.0|      Individual|               null|                     null|2024-10-22 11:04:...|\n",
       "|492c70174ccb1d751...|Director of Chann...|  < 1 year|      MORTGAGE|     100000.0|        IL|          601xx|            USA|    B|       B3|    Source Verified|        78247.0|      Individual|               null|                     null|2024-10-22 11:04:...|\n",
       "|beac604a26849ee8d...|                null|      null|      MORTGAGE|      60000.0|        WA|          992xx|            USA|    B|       B2|    Source Verified|       216650.0|      Individual|               null|                     null|2024-10-22 11:04:...|\n",
       "|e79ca42062bf09d31...|Senior Program Ma...|   9 years|      MORTGAGE|     120000.0|        TX|          782xx|            USA|    B|       B4|           Verified|       357732.0|      Individual|               null|                     null|2024-10-22 11:04:...|\n",
       "|79164a0efe358b229...|VP, Professional ...| 10+ years|      MORTGAGE|     650000.0|        IL|          600xx|            USA|    E|       E5|    Source Verified|      1113868.0|      Individual|               null|                     null|2024-10-22 11:04:...|\n",
       "|de08b7068add1ff00...|Route Sales Repre...|  < 1 year|      MORTGAGE|      62000.0|        OH|          432xx|            USA|    B|       B5|           Verified|       132860.0|      Individual|               null|                     null|2024-10-22 11:04:...|\n",
       "|f4722769db057038d...|           Librarian| 10+ years|          RENT|      55000.0|        NY|          112xx|            USA|    C|       C4|           Verified|        50700.0|      Individual|               null|                     null|2024-10-22 11:04:...|\n",
       "|e419f985a0dd6e922...|               Nurse|   4 years|      MORTGAGE|      40000.0|        NY|          117xx|            USA|    C|       C4|    Source Verified|       156119.0|      Individual|               null|                     null|2024-10-22 11:04:...|\n",
       "|853af07b5e9a74eb8...|  kitchen supervisor|   2 years|          RENT|      80000.0|        WI|          547xx|            USA|    C|       C1|       Not Verified|        76471.0|      Individual|               null|                     null|2024-10-22 11:04:...|\n",
       "+--------------------+--------------------+----------+--------------+-------------+----------+---------------+---------------+-----+---------+-------------------+---------------+----------------+-------------------+-------------------------+--------------------+"
      ]
     },
     "execution_count": 14,
     "metadata": {},
     "output_type": "execute_result"
    }
   ],
   "source": [
    "spark.sql(\"SELECT * FROM customers LIMIT 10\")"
   ]
  },
  {
   "cell_type": "code",
   "execution_count": 15,
   "id": "c17ac3a4",
   "metadata": {},
   "outputs": [
    {
     "data": {
      "text/html": [
       "<table border='1'>\n",
       "<tr><th>count(1)</th></tr>\n",
       "<tr><td>2</td></tr>\n",
       "</table>\n"
      ],
      "text/plain": [
       "+--------+\n",
       "|count(1)|\n",
       "+--------+\n",
       "|       2|\n",
       "+--------+"
      ]
     },
     "execution_count": 15,
     "metadata": {},
     "output_type": "execute_result"
    }
   ],
   "source": [
    "#Remove rows with annual income as null.\n",
    "\n",
    "spark.sql(\"SELECT COUNT(*) FROM customers WHERE annual_income is NULL\")"
   ]
  },
  {
   "cell_type": "code",
   "execution_count": 16,
   "id": "5549fb8f",
   "metadata": {},
   "outputs": [],
   "source": [
    "customer_df_filtered_income=spark.sql(\"SELECT * FROM customers WHERE annual_income is NOT NULL\")"
   ]
  },
  {
   "cell_type": "code",
   "execution_count": 17,
   "id": "fa25145b",
   "metadata": {},
   "outputs": [],
   "source": [
    "customer_df_filtered_income.createOrReplaceTempView(\"customers\")"
   ]
  },
  {
   "cell_type": "code",
   "execution_count": 18,
   "id": "84cef64e",
   "metadata": {},
   "outputs": [
    {
     "data": {
      "text/html": [
       "<table border='1'>\n",
       "<tr><th>emp_length</th></tr>\n",
       "<tr><td>9 years</td></tr>\n",
       "<tr><td>5 years</td></tr>\n",
       "<tr><td>null</td></tr>\n",
       "<tr><td>1 year</td></tr>\n",
       "<tr><td>2 years</td></tr>\n",
       "<tr><td>7 years</td></tr>\n",
       "<tr><td>8 years</td></tr>\n",
       "<tr><td>4 years</td></tr>\n",
       "<tr><td>6 years</td></tr>\n",
       "<tr><td>3 years</td></tr>\n",
       "<tr><td>10+ years</td></tr>\n",
       "<tr><td>&lt; 1 year</td></tr>\n",
       "</table>\n"
      ],
      "text/plain": [
       "+----------+\n",
       "|emp_length|\n",
       "+----------+\n",
       "|   5 years|\n",
       "|   9 years|\n",
       "|      null|\n",
       "|    1 year|\n",
       "|   2 years|\n",
       "|   7 years|\n",
       "|   8 years|\n",
       "|   4 years|\n",
       "|   6 years|\n",
       "|   3 years|\n",
       "| 10+ years|\n",
       "|  < 1 year|\n",
       "+----------+"
      ]
     },
     "execution_count": 18,
     "metadata": {},
     "output_type": "execute_result"
    }
   ],
   "source": [
    "#convert emp lenght to integer\n",
    "\n",
    "spark.sql(\"Select distinct(emp_length) from customers\")"
   ]
  },
  {
   "cell_type": "code",
   "execution_count": 19,
   "id": "5ac99222",
   "metadata": {},
   "outputs": [],
   "source": [
    "from pyspark.sql.functions import regexp_replace, col\n"
   ]
  },
  {
   "cell_type": "code",
   "execution_count": 20,
   "id": "c0830631",
   "metadata": {},
   "outputs": [],
   "source": [
    "customer_df_emp_length_clean=customer_df_filtered_income.withColumn(\"emp_length\", regexp_replace(col(\"emp_length\"),\"(\\D)\",\"\"))"
   ]
  },
  {
   "cell_type": "code",
   "execution_count": 21,
   "id": "6cf49ee9",
   "metadata": {},
   "outputs": [
    {
     "name": "stdout",
     "output_type": "stream",
     "text": [
      "+--------------------+--------------------+----------+--------------+-------------+----------+---------------+---------------+-----+---------+-------------------+---------------+----------------+-------------------+-------------------------+--------------------+\n",
      "|           member_id|           emp_title|emp_length|home_ownership|annual_income|addr_state|address_zipcode|address_country|grade|sub_grade|verification_status|tot_hi_cred_lim|application_type|joint_annual_income|verification_status_joint|         ingest_date|\n",
      "+--------------------+--------------------+----------+--------------+-------------+----------+---------------+---------------+-----+---------+-------------------+---------------+----------------+-------------------+-------------------------+--------------------+\n",
      "|8def1d73e5b3c19a7...|Speech Language P...|         2|      MORTGAGE|     75181.21|        VA|          242xx|            USA|    C|       C2|       Not Verified|       354971.0|      Individual|               null|                     null|2024-10-22 11:04:...|\n",
      "|492e3c7407579951d...|Information Assur...|         2|      MORTGAGE|      78000.0|        VA|          234xx|            USA|    C|       C3|       Not Verified|       387367.0|      Individual|               null|                     null|2024-10-22 11:04:...|\n",
      "|d8636dcdb7acfbcf7...|             Manager|         5|           OWN|     120000.0|        TX|          770xx|            USA|    A|       A2|       Not Verified|       331839.0|      Individual|               null|                     null|2024-10-22 11:04:...|\n",
      "|3dc3c30ed4c0627ed...|Infrastructure En...|         1|      MORTGAGE|     118000.0|        TX|          760xx|            USA|    A|       A1|       Not Verified|       383105.0|      Individual|               null|                     null|2024-10-22 11:04:...|\n",
      "|7afa0133724b091ab...|      Angio Tech III|         1|          RENT|      80000.0|        FL|          328xx|            USA|    B|       B2|    Source Verified|        60001.0|      Individual|               null|                     null|2024-10-22 11:04:...|\n",
      "|60f8478c32f8b12b0...|        Merchandizer|        10|          RENT|      65000.0|        CA|          910xx|            USA|    D|       D3|           Verified|        60620.0|      Individual|               null|                     null|2024-10-22 11:04:...|\n",
      "|d3b97070dd177bfd7...|          IT Manager|        10|      MORTGAGE|     165000.0|        TX|          760xx|            USA|    B|       B1|       Not Verified|       571097.0|      Individual|               null|                     null|2024-10-22 11:04:...|\n",
      "|d38a8267e4e3595ce...|        City Carrier|         8|      MORTGAGE|      57100.0|        PA|          170xx|            USA|    E|       E1|       Not Verified|        19588.0|      Individual|               null|                     null|2024-10-22 11:04:...|\n",
      "|99a63690b78fa5c32...|Human Capital Off...|        10|      MORTGAGE|     127000.0|        MD|          206xx|            USA|    C|       C3|    Source Verified|       133920.0|      Individual|               null|                     null|2024-10-22 11:04:...|\n",
      "|f8386c74c1e8029c6...|     Owner/Appraiser|        10|      MORTGAGE|      54139.0|        WI|          544xx|            USA|    C|       C3|       Not Verified|       289853.0|      Individual|               null|                     null|2024-10-22 11:04:...|\n",
      "|0524c113430bb9749...|   Financial Analyst|         1|          RENT|      91000.0|        AL|          352xx|            USA|    C|       C4|       Not Verified|       531113.0|      Individual|               null|                     null|2024-10-22 11:04:...|\n",
      "|9fa303503e1154df0...|    IT-Administrator|         7|          RENT|      50441.0|        CA|          956xx|            USA|    C|       C3|           Verified|        53387.0|      Individual|               null|                     null|2024-10-22 11:04:...|\n",
      "|0e0125f7b50a06197...|           Lead cook|         4|      MORTGAGE|      80000.0|        RI|          028xx|            USA|    C|       C3|    Source Verified|        42422.0|      Individual|               null|                     null|2024-10-22 11:04:...|\n",
      "|e1504fc20e13313fc...|   Athletic Director|         2|          RENT|      55000.0|        OH|          450xx|            USA|    B|       B3|       Not Verified|       296029.0|      Individual|               null|                     null|2024-10-22 11:04:...|\n",
      "|adb07b249f7ef2f45...|Certified Pharmac...|         9|          RENT|      28000.0|        IL|          601xx|            USA|    B|       B5|           Verified|        34693.0|      Individual|               null|                     null|2024-10-22 11:04:...|\n",
      "|1f66f56e4bc0bd055...|Food Service Manager|         1|          RENT|      54000.0|        NJ|          076xx|            USA|    B|       B3|    Source Verified|        44867.0|      Individual|               null|                     null|2024-10-22 11:04:...|\n",
      "|abf39ddb67b979630...|            Producer|         2|      MORTGAGE|      46000.0|        MI|          490xx|            USA|    A|       A3|    Source Verified|        38043.0|      Individual|               null|                     null|2024-10-22 11:04:...|\n",
      "|42960d75422500f51...|                  GM|         5|      MORTGAGE|      83000.0|        NY|          130xx|            USA|    A|       A4|    Source Verified|       274406.0|      Individual|               null|                     null|2024-10-22 11:04:...|\n",
      "|0d0e9f64a9779879f...|      security guard|         1|           OWN|      17000.0|        AZ|          857xx|            USA|    B|       B4|    Source Verified|        11849.0|      Individual|               null|                     null|2024-10-22 11:04:...|\n",
      "|4183e1d6b7aef27cd...|Certified medicat...|         5|          RENT|      22000.0|        NJ|          078xx|            USA|    E|       E1|    Source Verified|        35700.0|      Individual|               null|                     null|2024-10-22 11:04:...|\n",
      "+--------------------+--------------------+----------+--------------+-------------+----------+---------------+---------------+-----+---------+-------------------+---------------+----------------+-------------------+-------------------------+--------------------+\n",
      "only showing top 20 rows\n",
      "\n"
     ]
    }
   ],
   "source": [
    "customer_df_emp_length_clean.show()"
   ]
  },
  {
   "cell_type": "code",
   "execution_count": 22,
   "id": "68d40759",
   "metadata": {},
   "outputs": [],
   "source": [
    "#convert emp lenght to integer\n",
    "\n",
    "customer_df_emp_length_cast=customer_df_emp_length_clean.withColumn(\"emp_length\",customer_df_emp_length_clean.emp_length.cast('int'))"
   ]
  },
  {
   "cell_type": "code",
   "execution_count": 23,
   "id": "dfc91a02",
   "metadata": {},
   "outputs": [
    {
     "name": "stdout",
     "output_type": "stream",
     "text": [
      "root\n",
      " |-- member_id: string (nullable = true)\n",
      " |-- emp_title: string (nullable = true)\n",
      " |-- emp_length: integer (nullable = true)\n",
      " |-- home_ownership: string (nullable = true)\n",
      " |-- annual_income: float (nullable = true)\n",
      " |-- addr_state: string (nullable = true)\n",
      " |-- address_zipcode: string (nullable = true)\n",
      " |-- address_country: string (nullable = true)\n",
      " |-- grade: string (nullable = true)\n",
      " |-- sub_grade: string (nullable = true)\n",
      " |-- verification_status: string (nullable = true)\n",
      " |-- tot_hi_cred_lim: float (nullable = true)\n",
      " |-- application_type: string (nullable = true)\n",
      " |-- joint_annual_income: string (nullable = true)\n",
      " |-- verification_status_joint: string (nullable = true)\n",
      " |-- ingest_date: timestamp (nullable = false)\n",
      "\n"
     ]
    }
   ],
   "source": [
    "customer_df_emp_length_cast.printSchema()"
   ]
  },
  {
   "cell_type": "code",
   "execution_count": 24,
   "id": "39b171cf",
   "metadata": {},
   "outputs": [
    {
     "data": {
      "text/plain": [
       "27532"
      ]
     },
     "execution_count": 24,
     "metadata": {},
     "output_type": "execute_result"
    }
   ],
   "source": [
    "customer_df_emp_length_cast.filter(\"emp_length is null\").count()"
   ]
  },
  {
   "cell_type": "code",
   "execution_count": 25,
   "id": "3a425619",
   "metadata": {},
   "outputs": [],
   "source": [
    "customer_df_emp_length_cast.createOrReplaceTempView(\"customers\")"
   ]
  },
  {
   "cell_type": "code",
   "execution_count": 32,
   "id": "034ed2cc",
   "metadata": {},
   "outputs": [],
   "source": [
    "avg_emp_Length=spark.sql(\"SELECT FLOOR(AVG(emp_length)) AS AVG_EMP_LENGTH FROM customers\").collect()"
   ]
  },
  {
   "cell_type": "code",
   "execution_count": 33,
   "id": "78af0719",
   "metadata": {},
   "outputs": [
    {
     "name": "stdout",
     "output_type": "stream",
     "text": [
      "[Row(AVG_EMP_LENGTH=6)]\n"
     ]
    }
   ],
   "source": [
    "print(avg_emp_Length)"
   ]
  },
  {
   "cell_type": "code",
   "execution_count": 34,
   "id": "89e313b4",
   "metadata": {},
   "outputs": [],
   "source": [
    "avg_emp_duration=avg_emp_Length[0][0]"
   ]
  },
  {
   "cell_type": "code",
   "execution_count": 35,
   "id": "622ff965",
   "metadata": {},
   "outputs": [],
   "source": [
    "customer_df_emp_length_replaced=customer_df_emp_length_cast.na.fill(avg_emp_duration,subset=['emp_length'])"
   ]
  },
  {
   "cell_type": "code",
   "execution_count": 36,
   "id": "9c3d117e",
   "metadata": {},
   "outputs": [
    {
     "data": {
      "text/plain": [
       "0"
      ]
     },
     "execution_count": 36,
     "metadata": {},
     "output_type": "execute_result"
    }
   ],
   "source": [
    "customer_df_emp_length_replaced.filter(\"emp_length is null\").count()"
   ]
  },
  {
   "cell_type": "code",
   "execution_count": 39,
   "id": "7f3275f7",
   "metadata": {},
   "outputs": [],
   "source": [
    "# Clean the address statewith 2 chars.\n",
    "customer_df_emp_length_replaced.createOrReplaceTempView(\"customers\")\n"
   ]
  },
  {
   "cell_type": "code",
   "execution_count": 44,
   "id": "f443e01e",
   "metadata": {},
   "outputs": [
    {
     "data": {
      "text/plain": [
       "50"
      ]
     },
     "execution_count": 44,
     "metadata": {},
     "output_type": "execute_result"
    }
   ],
   "source": [
    "spark.sql(\"SELECT DISTINCT(addr_state) FROM customers\").count()"
   ]
  },
  {
   "cell_type": "code",
   "execution_count": 46,
   "id": "21fe91c7",
   "metadata": {},
   "outputs": [
    {
     "data": {
      "text/html": [
       "<table border='1'>\n",
       "<tr><th>count(addr_state)</th></tr>\n",
       "<tr><td>0</td></tr>\n",
       "</table>\n"
      ],
      "text/plain": [
       "+-----------------+\n",
       "|count(addr_state)|\n",
       "+-----------------+\n",
       "|                0|\n",
       "+-----------------+"
      ]
     },
     "execution_count": 46,
     "metadata": {},
     "output_type": "execute_result"
    }
   ],
   "source": [
    "spark.sql(\"SELECT count(addr_state) FROM customers WHERE length(addr_state)>2\")"
   ]
  },
  {
   "cell_type": "code",
   "execution_count": 47,
   "id": "ccc9de2e",
   "metadata": {},
   "outputs": [],
   "source": [
    "customer_df_emp_length_replaced.write \\\n",
    ".format(\"parquet\") \\\n",
    ".mode(\"overwrite\") \\\n",
    ".option(\"path\",\"/user/itv014478/lendingclubproject/cleaned/customer_data\") \\\n",
    ".save()"
   ]
  },
  {
   "cell_type": "code",
   "execution_count": null,
   "id": "0cca7c85",
   "metadata": {},
   "outputs": [],
   "source": []
  }
 ],
 "metadata": {
  "kernelspec": {
   "display_name": "Pyspark 3",
   "language": "python",
   "name": "pyspark3"
  },
  "language_info": {
   "codemirror_mode": {
    "name": "ipython",
    "version": 3
   },
   "file_extension": ".py",
   "mimetype": "text/x-python",
   "name": "python",
   "nbconvert_exporter": "python",
   "pygments_lexer": "ipython3",
   "version": "3.6.12"
  }
 },
 "nbformat": 4,
 "nbformat_minor": 5
}
