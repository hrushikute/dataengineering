{
 "cells": [
  {
   "cell_type": "code",
   "execution_count": 1,
   "id": "c666cfc5",
   "metadata": {},
   "outputs": [],
   "source": [
    "#import the necessary libs\n",
    "\n",
    "from pyspark.sql import SparkSession\n",
    "import getpass\n",
    "\n",
    "username=getpass.getuser()\n",
    "spark=SparkSession. \\\n",
    "    builder. \\\n",
    "    config('spark.ui.port','0'). \\\n",
    "    config(\"spark.suffle.useOldFetchProtocol\",'true'). \\\n",
    "    config(\"spark.dql.warehouse.dir\",f\"/user/{username}/warehouse\"). \\\n",
    "    enableHiveSupport(). \\\n",
    "    master('yarn'). \\\n",
    "    getOrCreate()"
   ]
  },
  {
   "cell_type": "code",
   "execution_count": 2,
   "id": "cd93b390",
   "metadata": {},
   "outputs": [],
   "source": [
    "loans_raw_df=spark.read \\\n",
    "    .format(\"csv\") \\\n",
    "    .option(\"inferSchema\", \"True\") \\\n",
    "    .option(\"header\", \"True\") \\\n",
    "    .load(\"/user/itv014478/lendingclubproject/raw/loans_data_csv\")"
   ]
  },
  {
   "cell_type": "code",
   "execution_count": 3,
   "id": "03d7cfb4",
   "metadata": {},
   "outputs": [
    {
     "name": "stdout",
     "output_type": "stream",
     "text": [
      "+--------+--------------------+---------+-----------+---------+--------+-----------+--------+-----------+------------------+--------------------+\n",
      "| loan_id|           member_id|loan_amnt|funded_amnt|     term|int_rate|installment| issue_d|loan_status|           purpose|               title|\n",
      "+--------+--------------------+---------+-----------+---------+--------+-----------+--------+-----------+------------------+--------------------+\n",
      "|68407277|6d5091b3fcaaeb4ea...|   3600.0|     3600.0|36 months|   13.99|     123.03|Dec-2015| Fully Paid|debt_consolidation|  Debt consolidation|\n",
      "|68355089|b5e7938b0a2da4cea...|  24700.0|    24700.0|36 months|   11.99|     820.28|Dec-2015| Fully Paid|    small_business|            Business|\n",
      "|68341763|91060b858433e8a61...|  20000.0|    20000.0|60 months|   10.78|     432.66|Dec-2015| Fully Paid|  home_improvement|                null|\n",
      "|66310712|cab1fa9f533688b0a...|  35000.0|    35000.0|60 months|   14.85|      829.9|Dec-2015|    Current|debt_consolidation|  Debt consolidation|\n",
      "|68476807|f74e401c1ab0adf78...|  10400.0|    10400.0|60 months|   22.45|     289.91|Dec-2015| Fully Paid|    major_purchase|      Major purchase|\n",
      "|68426831|8aef4bb29d609d8d6...|  11950.0|    11950.0|36 months|   13.44|     405.18|Dec-2015| Fully Paid|debt_consolidation|  Debt consolidation|\n",
      "|68476668|538b4653da3b1e814...|  20000.0|    20000.0|36 months|    9.17|     637.58|Dec-2015| Fully Paid|debt_consolidation|  Debt consolidation|\n",
      "|67275481|b24d55f21390533c5...|  20000.0|    20000.0|36 months|    8.49|     631.26|Dec-2015| Fully Paid|    major_purchase|      Major purchase|\n",
      "|68466926|1035c5401b0ca76d0...|  10000.0|    10000.0|36 months|    6.49|     306.45|Dec-2015| Fully Paid|       credit_card|Credit card refin...|\n",
      "|68616873|cb0f1777593e77909...|   8000.0|     8000.0|36 months|   11.48|     263.74|Dec-2015| Fully Paid|       credit_card|Credit card refin...|\n",
      "|68356421|a962f4d59caec5fa1...|  22400.0|    22400.0|60 months|   12.88|      508.3|Dec-2015|    Current|debt_consolidation|  Debt consolidation|\n",
      "|68426545|e7592ab57b3afd9f1...|  16000.0|    16000.0|60 months|   12.88|     363.07|Dec-2015|    Current|debt_consolidation|  Debt consolidation|\n",
      "|68338832|603afa9d1be879b7b...|   1400.0|     1400.0|36 months|   12.88|       47.1|Dec-2015| Fully Paid|             other|                null|\n",
      "|66624733|9fe2d59ddf2a4f37e...|  18000.0|    18000.0|60 months|   19.48|      471.7|Dec-2015|Charged Off|debt_consolidation|  Debt consolidation|\n",
      "|68466961|23857480ccf555ce4...|  28000.0|    28000.0|36 months|    6.49|     858.05|Dec-2015| Fully Paid|debt_consolidation|  Debt consolidation|\n",
      "|68354783|7c69d5f36fdabf6e1...|   9600.0|     9600.0|36 months|    7.49|     298.58|Dec-2015| Fully Paid|       credit_card|Credit card refin...|\n",
      "|68466916|08bf9e080503b0113...|  25000.0|    25000.0|36 months|    7.49|     777.55|Dec-2015| Fully Paid|debt_consolidation|  Debt consolidation|\n",
      "|68577849|1cafb05aa6c894c30...|  18000.0|    18000.0|60 months|   11.99|     400.31|Dec-2015| Fully Paid|debt_consolidation|  Debt consolidation|\n",
      "|68506798|f2c4010f700d8c9c4...|  23000.0|    23000.0|60 months|    8.49|     471.77|Dec-2015|    Current|       credit_card|Credit card refin...|\n",
      "|68495092|05ad4aed7c393035e...|   8650.0|     8650.0|36 months|   19.89|     320.99|Dec-2015| Fully Paid|debt_consolidation|  Debt consolidation|\n",
      "+--------+--------------------+---------+-----------+---------+--------+-----------+--------+-----------+------------------+--------------------+\n",
      "only showing top 20 rows\n",
      "\n"
     ]
    }
   ],
   "source": [
    "loans_raw_df.show()"
   ]
  },
  {
   "cell_type": "code",
   "execution_count": 4,
   "id": "6f350eeb",
   "metadata": {},
   "outputs": [
    {
     "name": "stdout",
     "output_type": "stream",
     "text": [
      "root\n",
      " |-- loan_id: string (nullable = true)\n",
      " |-- member_id: string (nullable = true)\n",
      " |-- loan_amnt: double (nullable = true)\n",
      " |-- funded_amnt: double (nullable = true)\n",
      " |-- term: string (nullable = true)\n",
      " |-- int_rate: double (nullable = true)\n",
      " |-- installment: double (nullable = true)\n",
      " |-- issue_d: string (nullable = true)\n",
      " |-- loan_status: string (nullable = true)\n",
      " |-- purpose: string (nullable = true)\n",
      " |-- title: string (nullable = true)\n",
      "\n"
     ]
    }
   ],
   "source": [
    "loans_raw_df.printSchema()"
   ]
  },
  {
   "cell_type": "code",
   "execution_count": 5,
   "id": "d5af608b",
   "metadata": {},
   "outputs": [],
   "source": [
    "loan_schema='loan_id string  ,member_id  string  ,loan_amount  float  ,funded_amount  float  ,loan_term_months  string,interest_rate  float  ,monthly_installment  float  ,issue_ddate  string  ,loan_status  string  ,loan_purpose  string  ,loan_title  string '"
   ]
  },
  {
   "cell_type": "code",
   "execution_count": 6,
   "id": "6aa536b6",
   "metadata": {},
   "outputs": [],
   "source": [
    "loans_raw_df=spark.read \\\n",
    "    .format(\"csv\") \\\n",
    "    .option(\"inferSchema\", \"True\") \\\n",
    "    .schema(loan_schema) \\\n",
    "    .load(\"/user/itv014478/lendingclubproject/raw/loans_data_csv\")"
   ]
  },
  {
   "cell_type": "code",
   "execution_count": 7,
   "id": "98c8aec5",
   "metadata": {},
   "outputs": [
    {
     "name": "stdout",
     "output_type": "stream",
     "text": [
      "root\n",
      " |-- loan_id: string (nullable = true)\n",
      " |-- member_id: string (nullable = true)\n",
      " |-- loan_amount: float (nullable = true)\n",
      " |-- funded_amount: float (nullable = true)\n",
      " |-- loan_term_months: string (nullable = true)\n",
      " |-- interest_rate: float (nullable = true)\n",
      " |-- monthly_installment: float (nullable = true)\n",
      " |-- issue_ddate: string (nullable = true)\n",
      " |-- loan_status: string (nullable = true)\n",
      " |-- loan_purpose: string (nullable = true)\n",
      " |-- loan_title: string (nullable = true)\n",
      "\n"
     ]
    }
   ],
   "source": [
    "loans_raw_df.printSchema()"
   ]
  },
  {
   "cell_type": "code",
   "execution_count": 8,
   "id": "9b0fc8d6",
   "metadata": {},
   "outputs": [],
   "source": [
    "loans_raw_df.createOrReplaceTempView('loans')"
   ]
  },
  {
   "cell_type": "code",
   "execution_count": 9,
   "id": "5b7ee304",
   "metadata": {},
   "outputs": [
    {
     "data": {
      "text/html": [
       "<table border='1'>\n",
       "<tr><th>count(1)</th></tr>\n",
       "<tr><td>462495</td></tr>\n",
       "</table>\n"
      ],
      "text/plain": [
       "+--------+\n",
       "|count(1)|\n",
       "+--------+\n",
       "|  462495|\n",
       "+--------+"
      ]
     },
     "execution_count": 9,
     "metadata": {},
     "output_type": "execute_result"
    }
   ],
   "source": [
    "spark.sql(\"SELECT COUNT(*) FROM loans\")"
   ]
  },
  {
   "cell_type": "code",
   "execution_count": 10,
   "id": "bd60c819",
   "metadata": {},
   "outputs": [
    {
     "data": {
      "text/html": [
       "<table border='1'>\n",
       "<tr><th>loan_id</th><th>member_id</th><th>loan_amount</th><th>funded_amount</th><th>loan_term_months</th><th>interest_rate</th><th>monthly_installment</th><th>issue_ddate</th><th>loan_status</th><th>loan_purpose</th><th>loan_title</th></tr>\n",
       "<tr><td>loan_id</td><td>member_id</td><td>null</td><td>null</td><td>term</td><td>null</td><td>null</td><td>issue_d</td><td>loan_status</td><td>purpose</td><td>title</td></tr>\n",
       "<tr><td>Total amount fund...</td><td>e3b0c44298fc1c149...</td><td>null</td><td>null</td><td>null</td><td>null</td><td>null</td><td>null</td><td>null</td><td>null</td><td>null</td></tr>\n",
       "<tr><td>Total amount fund...</td><td>e3b0c44298fc1c149...</td><td>null</td><td>null</td><td>null</td><td>null</td><td>null</td><td>null</td><td>null</td><td>null</td><td>null</td></tr>\n",
       "</table>\n"
      ],
      "text/plain": [
       "+--------------------+--------------------+-----------+-------------+----------------+-------------+-------------------+-----------+-----------+------------+----------+\n",
       "|             loan_id|           member_id|loan_amount|funded_amount|loan_term_months|interest_rate|monthly_installment|issue_ddate|loan_status|loan_purpose|loan_title|\n",
       "+--------------------+--------------------+-----------+-------------+----------------+-------------+-------------------+-----------+-----------+------------+----------+\n",
       "|             loan_id|           member_id|       null|         null|            term|         null|               null|    issue_d|loan_status|     purpose|     title|\n",
       "|Total amount fund...|e3b0c44298fc1c149...|       null|         null|            null|         null|               null|       null|       null|        null|      null|\n",
       "|Total amount fund...|e3b0c44298fc1c149...|       null|         null|            null|         null|               null|       null|       null|        null|      null|\n",
       "+--------------------+--------------------+-----------+-------------+----------------+-------------+-------------------+-----------+-----------+------------+----------+"
      ]
     },
     "execution_count": 10,
     "metadata": {},
     "output_type": "execute_result"
    }
   ],
   "source": [
    "spark.sql(\"SELECT * FROM loans WHERE loan_amount is null\")"
   ]
  },
  {
   "cell_type": "code",
   "execution_count": 11,
   "id": "4598cd16",
   "metadata": {},
   "outputs": [],
   "source": [
    "col_to_check=[\"loan_amount\",\t\"funded_amount\"\t,\"loan_term_months\"\t,\"interest_rate\",\t\"monthly_installment\",\t\"issue_ddate\"\t,\"loan_status\"\t,\"loan_purpose\"\t]\n",
    "loans_filterd_df=loans_raw_df.na.drop(subset=col_to_check)"
   ]
  },
  {
   "cell_type": "code",
   "execution_count": 12,
   "id": "9462ee89",
   "metadata": {},
   "outputs": [
    {
     "data": {
      "text/plain": [
       "462491"
      ]
     },
     "execution_count": 12,
     "metadata": {},
     "output_type": "execute_result"
    }
   ],
   "source": [
    "loans_filterd_df.count()"
   ]
  },
  {
   "cell_type": "code",
   "execution_count": 13,
   "id": "1b36b7fd",
   "metadata": {},
   "outputs": [],
   "source": [
    "loans_filterd_df.createOrReplaceTempView(\"loans\")"
   ]
  },
  {
   "cell_type": "code",
   "execution_count": 14,
   "id": "fd847fbd",
   "metadata": {},
   "outputs": [],
   "source": [
    "from pyspark.sql.functions import regexp_replace, col\n"
   ]
  },
  {
   "cell_type": "code",
   "execution_count": 15,
   "id": "e1095b0b",
   "metadata": {},
   "outputs": [],
   "source": [
    "loan_term_modified=loans_filterd_df.withColumn(\"loan_term_months\", (regexp_replace(col(\"loan_term_months\"),\" months\",\"\") \\\n",
    "                                                 .cast(\"int\")/12).cast(\"int\")) \\\n",
    ".withColumnRenamed(\"loan_term_months\",\"loan_term_years\")"
   ]
  },
  {
   "cell_type": "code",
   "execution_count": 16,
   "id": "c4042398",
   "metadata": {},
   "outputs": [],
   "source": [
    "loan_term_modified.createOrReplaceTempView(\"loans\")"
   ]
  },
  {
   "cell_type": "code",
   "execution_count": 17,
   "id": "697a1c7f",
   "metadata": {},
   "outputs": [
    {
     "data": {
      "text/html": [
       "<table border='1'>\n",
       "<tr><th>loan_purpose</th></tr>\n",
       "<tr><td>wedding</td></tr>\n",
       "<tr><td>educational</td></tr>\n",
       "<tr><td>other</td></tr>\n",
       "<tr><td>small_business</td></tr>\n",
       "<tr><td>debt_consolidation</td></tr>\n",
       "<tr><td>credit_card</td></tr>\n",
       "<tr><td>moving</td></tr>\n",
       "<tr><td>vacation</td></tr>\n",
       "<tr><td>renewable_energy</td></tr>\n",
       "<tr><td>house</td></tr>\n",
       "<tr><td>car</td></tr>\n",
       "<tr><td>major_purchase</td></tr>\n",
       "<tr><td>medical</td></tr>\n",
       "<tr><td>home_improvement</td></tr>\n",
       "</table>\n"
      ],
      "text/plain": [
       "+------------------+\n",
       "|      loan_purpose|\n",
       "+------------------+\n",
       "|           wedding|\n",
       "|       educational|\n",
       "|             other|\n",
       "|    small_business|\n",
       "|debt_consolidation|\n",
       "|       credit_card|\n",
       "|            moving|\n",
       "|          vacation|\n",
       "|  renewable_energy|\n",
       "|             house|\n",
       "|               car|\n",
       "|    major_purchase|\n",
       "|           medical|\n",
       "|  home_improvement|\n",
       "+------------------+"
      ]
     },
     "execution_count": 17,
     "metadata": {},
     "output_type": "execute_result"
    }
   ],
   "source": [
    "spark.sql(\"SELECT DISTINCT(loan_purpose) FROM loans\")"
   ]
  },
  {
   "cell_type": "code",
   "execution_count": 18,
   "id": "457cfd6c",
   "metadata": {},
   "outputs": [
    {
     "data": {
      "text/html": [
       "<table border='1'>\n",
       "<tr><th>loan_purpose</th><th>total</th></tr>\n",
       "<tr><td>debt_consolidation</td><td>270942</td></tr>\n",
       "<tr><td>credit_card</td><td>111282</td></tr>\n",
       "<tr><td>home_improvement</td><td>28448</td></tr>\n",
       "<tr><td>other</td><td>22983</td></tr>\n",
       "<tr><td>major_purchase</td><td>8724</td></tr>\n",
       "<tr><td>medical</td><td>4615</td></tr>\n",
       "<tr><td>car</td><td>4041</td></tr>\n",
       "<tr><td>small_business</td><td>3835</td></tr>\n",
       "<tr><td>moving</td><td>2704</td></tr>\n",
       "<tr><td>vacation</td><td>2570</td></tr>\n",
       "<tr><td>house</td><td>2093</td></tr>\n",
       "<tr><td>renewable_energy</td><td>247</td></tr>\n",
       "<tr><td>wedding</td><td>6</td></tr>\n",
       "<tr><td>educational</td><td>1</td></tr>\n",
       "</table>\n"
      ],
      "text/plain": [
       "+------------------+------+\n",
       "|      loan_purpose| total|\n",
       "+------------------+------+\n",
       "|debt_consolidation|270942|\n",
       "|       credit_card|111282|\n",
       "|  home_improvement| 28448|\n",
       "|             other| 22983|\n",
       "|    major_purchase|  8724|\n",
       "|           medical|  4615|\n",
       "|               car|  4041|\n",
       "|    small_business|  3835|\n",
       "|            moving|  2704|\n",
       "|          vacation|  2570|\n",
       "|             house|  2093|\n",
       "|  renewable_energy|   247|\n",
       "|           wedding|     6|\n",
       "|       educational|     1|\n",
       "+------------------+------+"
      ]
     },
     "execution_count": 18,
     "metadata": {},
     "output_type": "execute_result"
    }
   ],
   "source": [
    "spark.sql(\"SELECT loan_purpose,count(*)AS total FROM loans GROUP BY loan_purpose ORDER BY total DESC\")"
   ]
  },
  {
   "cell_type": "markdown",
   "id": "c60a202e",
   "metadata": {},
   "source": []
  },
  {
   "cell_type": "code",
   "execution_count": 19,
   "id": "b2b3b1fa",
   "metadata": {},
   "outputs": [],
   "source": [
    "loan_purpose_lookup = [\"debt_consolidation\", \"credit_card\", \"home_improvement\", \"other\", \"major_purchase\", \"medical\", \"small_business\", \"car\", \"vacation\", \"moving\", \"house\", \"wedding\", \"renewable_energy\", \"educational\"]"
   ]
  },
  {
   "cell_type": "code",
   "execution_count": 20,
   "id": "47eacbf9",
   "metadata": {},
   "outputs": [],
   "source": [
    "from pyspark.sql.functions import when"
   ]
  },
  {
   "cell_type": "code",
   "execution_count": 22,
   "id": "344c0796",
   "metadata": {},
   "outputs": [],
   "source": [
    "loans_purpose_modified = loan_term_modified.withColumn(\"loan_purpose\", when(col(\"loan_purpose\").isin(loan_purpose_lookup), col(\"loan_purpose\")).otherwise(\"other\"))"
   ]
  },
  {
   "cell_type": "code",
   "execution_count": 23,
   "id": "0b0dda01",
   "metadata": {},
   "outputs": [],
   "source": [
    "loans_purpose_modified.createOrReplaceTempView(\"loans\")"
   ]
  },
  {
   "cell_type": "code",
   "execution_count": 24,
   "id": "4b10fa4d",
   "metadata": {},
   "outputs": [
    {
     "data": {
      "text/html": [
       "<table border='1'>\n",
       "<tr><th>loan_purpose</th><th>total</th></tr>\n",
       "<tr><td>debt_consolidation</td><td>270942</td></tr>\n",
       "<tr><td>credit_card</td><td>111282</td></tr>\n",
       "<tr><td>home_improvement</td><td>28448</td></tr>\n",
       "<tr><td>other</td><td>22983</td></tr>\n",
       "<tr><td>major_purchase</td><td>8724</td></tr>\n",
       "<tr><td>medical</td><td>4615</td></tr>\n",
       "<tr><td>car</td><td>4041</td></tr>\n",
       "<tr><td>small_business</td><td>3835</td></tr>\n",
       "<tr><td>moving</td><td>2704</td></tr>\n",
       "<tr><td>vacation</td><td>2570</td></tr>\n",
       "<tr><td>house</td><td>2093</td></tr>\n",
       "<tr><td>renewable_energy</td><td>247</td></tr>\n",
       "<tr><td>wedding</td><td>6</td></tr>\n",
       "<tr><td>educational</td><td>1</td></tr>\n",
       "</table>\n"
      ],
      "text/plain": [
       "+------------------+------+\n",
       "|      loan_purpose| total|\n",
       "+------------------+------+\n",
       "|debt_consolidation|270942|\n",
       "|       credit_card|111282|\n",
       "|  home_improvement| 28448|\n",
       "|             other| 22983|\n",
       "|    major_purchase|  8724|\n",
       "|           medical|  4615|\n",
       "|               car|  4041|\n",
       "|    small_business|  3835|\n",
       "|            moving|  2704|\n",
       "|          vacation|  2570|\n",
       "|             house|  2093|\n",
       "|  renewable_energy|   247|\n",
       "|           wedding|     6|\n",
       "|       educational|     1|\n",
       "+------------------+------+"
      ]
     },
     "execution_count": 24,
     "metadata": {},
     "output_type": "execute_result"
    }
   ],
   "source": [
    "spark.sql(\"select loan_purpose, count(*) as total from loans group by loan_purpose order by total desc\")"
   ]
  },
  {
   "cell_type": "code",
   "execution_count": 25,
   "id": "31c77a36",
   "metadata": {},
   "outputs": [],
   "source": [
    "from pyspark.sql.functions import count"
   ]
  },
  {
   "cell_type": "code",
   "execution_count": 26,
   "id": "2e12780b",
   "metadata": {},
   "outputs": [
    {
     "data": {
      "text/html": [
       "<table border='1'>\n",
       "<tr><th>loan_purpose</th><th>total</th></tr>\n",
       "<tr><td>debt_consolidation</td><td>270942</td></tr>\n",
       "<tr><td>credit_card</td><td>111282</td></tr>\n",
       "<tr><td>home_improvement</td><td>28448</td></tr>\n",
       "<tr><td>other</td><td>22983</td></tr>\n",
       "<tr><td>major_purchase</td><td>8724</td></tr>\n",
       "<tr><td>medical</td><td>4615</td></tr>\n",
       "<tr><td>car</td><td>4041</td></tr>\n",
       "<tr><td>small_business</td><td>3835</td></tr>\n",
       "<tr><td>moving</td><td>2704</td></tr>\n",
       "<tr><td>vacation</td><td>2570</td></tr>\n",
       "<tr><td>house</td><td>2093</td></tr>\n",
       "<tr><td>renewable_energy</td><td>247</td></tr>\n",
       "<tr><td>wedding</td><td>6</td></tr>\n",
       "<tr><td>educational</td><td>1</td></tr>\n",
       "</table>\n"
      ],
      "text/plain": [
       "+------------------+------+\n",
       "|      loan_purpose| total|\n",
       "+------------------+------+\n",
       "|debt_consolidation|270942|\n",
       "|       credit_card|111282|\n",
       "|  home_improvement| 28448|\n",
       "|             other| 22983|\n",
       "|    major_purchase|  8724|\n",
       "|           medical|  4615|\n",
       "|               car|  4041|\n",
       "|    small_business|  3835|\n",
       "|            moving|  2704|\n",
       "|          vacation|  2570|\n",
       "|             house|  2093|\n",
       "|  renewable_energy|   247|\n",
       "|           wedding|     6|\n",
       "|       educational|     1|\n",
       "+------------------+------+"
      ]
     },
     "execution_count": 26,
     "metadata": {},
     "output_type": "execute_result"
    }
   ],
   "source": [
    "loans_purpose_modified.groupBy(\"loan_purpose\").agg(count(\"*\").alias(\"total\")).orderBy(col(\"total\").desc())"
   ]
  },
  {
   "cell_type": "code",
   "execution_count": 27,
   "id": "16130a09",
   "metadata": {},
   "outputs": [],
   "source": [
    "loans_purpose_modified.write \\\n",
    ".format(\"parquet\") \\\n",
    ".mode(\"overwrite\") \\\n",
    ".option(\"path\", \"/user/itv014478/lendingclubproject/cleaned//loans_parquet\") \\\n",
    ".save()"
   ]
  },
  {
   "cell_type": "code",
   "execution_count": 28,
   "id": "61dd5afc",
   "metadata": {},
   "outputs": [],
   "source": [
    "loans_purpose_modified.write \\\n",
    ".format(\"csv\") \\\n",
    ".mode(\"overwrite\") \\\n",
    ".option(\"path\", \"/user/itv014478/lendingclubproject/cleaned/loans_csv\") \\\n",
    ".save()"
   ]
  },
  {
   "cell_type": "code",
   "execution_count": null,
   "id": "c39eb890",
   "metadata": {},
   "outputs": [],
   "source": []
  }
 ],
 "metadata": {
  "kernelspec": {
   "display_name": "Pyspark 3",
   "language": "python",
   "name": "pyspark3"
  },
  "language_info": {
   "codemirror_mode": {
    "name": "ipython",
    "version": 3
   },
   "file_extension": ".py",
   "mimetype": "text/x-python",
   "name": "python",
   "nbconvert_exporter": "python",
   "pygments_lexer": "ipython3",
   "version": "3.6.12"
  }
 },
 "nbformat": 4,
 "nbformat_minor": 5
}
